{
  "cells": [
    {
      "cell_type": "code",
      "execution_count": null,
      "metadata": {
        "id": "CXg6CkFZlZMq",
        "colab": {
          "base_uri": "https://localhost:8080/"
        },
        "outputId": "5bad0a90-a4b6-462b-ab71-2b571e583f02"
      },
      "outputs": [
        {
          "output_type": "stream",
          "name": "stdout",
          "text": [
            "Drive already mounted at /content/drive; to attempt to forcibly remount, call drive.mount(\"/content/drive\", force_remount=True).\n"
          ]
        }
      ],
      "source": [
        "from google.colab import drive\n",
        "drive.mount('/content/drive')\n",
        "import numpy as np\n",
        "from google.colab.patches import cv2_imshow\n",
        "import cv2\n",
        "import os\n",
        "import pandas as pd"
      ]
    },
    {
      "cell_type": "code",
      "execution_count": null,
      "metadata": {
        "id": "Cowgq_Tn22k4",
        "colab": {
          "base_uri": "https://localhost:8080/"
        },
        "outputId": "e6f4103a-490c-4743-914e-eb61c006eb1d"
      },
      "outputs": [
        {
          "output_type": "stream",
          "name": "stdout",
          "text": [
            "Collecting keras==2.12\n",
            "  Downloading keras-2.12.0-py2.py3-none-any.whl (1.7 MB)\n",
            "\u001b[2K     \u001b[90m━━━━━━━━━━━━━━━━━━━━━━━━━━━━━━━━━━━━━━━━\u001b[0m \u001b[32m1.7/1.7 MB\u001b[0m \u001b[31m10.0 MB/s\u001b[0m eta \u001b[36m0:00:00\u001b[0m\n",
            "\u001b[?25hInstalling collected packages: keras\n",
            "  Attempting uninstall: keras\n",
            "    Found existing installation: keras 2.15.0\n",
            "    Uninstalling keras-2.15.0:\n",
            "      Successfully uninstalled keras-2.15.0\n",
            "\u001b[31mERROR: pip's dependency resolver does not currently take into account all the packages that are installed. This behaviour is the source of the following dependency conflicts.\n",
            "tensorflow 2.15.0 requires keras<2.16,>=2.15.0, but you have keras 2.12.0 which is incompatible.\u001b[0m\u001b[31m\n",
            "\u001b[0mSuccessfully installed keras-2.12.0\n",
            "Collecting keras_applications\n",
            "  Downloading Keras_Applications-1.0.8-py3-none-any.whl (50 kB)\n",
            "\u001b[2K     \u001b[90m━━━━━━━━━━━━━━━━━━━━━━━━━━━━━━━━━━━━━━━━\u001b[0m \u001b[32m50.7/50.7 kB\u001b[0m \u001b[31m2.5 MB/s\u001b[0m eta \u001b[36m0:00:00\u001b[0m\n",
            "\u001b[?25hInstalling collected packages: keras_applications\n",
            "Successfully installed keras_applications-1.0.8\n",
            "Collecting split_folders\n",
            "  Downloading split_folders-0.5.1-py3-none-any.whl (8.4 kB)\n",
            "Installing collected packages: split_folders\n",
            "Successfully installed split_folders-0.5.1\n"
          ]
        }
      ],
      "source": [
        "!pip install keras==2.12\n",
        "!pip install keras_applications --no-deps\n",
        "!pip install split_folders"
      ]
    },
    {
      "cell_type": "code",
      "execution_count": null,
      "metadata": {
        "id": "c1LG0tCcm2lJ"
      },
      "outputs": [],
      "source": [
        "import keras\n",
        "from tensorflow.keras.utils import to_categorical\n",
        "from tensorflow.keras.applications.resnet_v2 import preprocess_input\n",
        "from tensorflow.keras.applications import DenseNet201, ResNet152V2\n",
        "from google.colab.patches import cv2_imshow\n",
        "import cv2\n",
        "import os\n",
        "import pandas as pd\n",
        "import splitfolders\n",
        "from tensorflow.keras.models import Sequential\n",
        "from tensorflow.keras.layers import Flatten, Dense, Resizing\n",
        "from tensorflow.keras.preprocessing.image import ImageDataGenerator, load_img\n",
        "import seaborn as sn\n",
        "import tensorflow as tf\n",
        "import matplotlib.pyplot as plt\n",
        "import numpy as np"
      ]
    },
    {
      "cell_type": "code",
      "execution_count": null,
      "metadata": {
        "id": "lew8JftM-EAw",
        "colab": {
          "base_uri": "https://localhost:8080/"
        },
        "outputId": "739eb2ce-26a0-42cc-93a2-5d11bac12d86"
      },
      "outputs": [
        {
          "output_type": "stream",
          "name": "stdout",
          "text": [
            "Drive already mounted at /content/drive; to attempt to forcibly remount, call drive.mount(\"/content/drive\", force_remount=True).\n"
          ]
        },
        {
          "output_type": "stream",
          "name": "stderr",
          "text": [
            "Copying files: 5631 files [37:59,  2.47 files/s]\n"
          ]
        }
      ],
      "source": [
        "drive.mount('/content/drive')\n",
        "\n",
        "ruta_directorio = \"/content/drive/MyDrive/UTEC/9_IA/2_Parcial_2/archive/data\"\n",
        "salida_ruta = \"/content/drive/MyDrive/UTEC/9_IA/2_Parcial_2/archive/data/nueva\"\n",
        "\n",
        "splitfolders.ratio(ruta_directorio, output=salida_ruta, seed=42, ratio=(.6, .2, .2))\n"
      ]
    },
    {
      "cell_type": "code",
      "execution_count": null,
      "metadata": {
        "id": "lm2QrWTC4FHc"
      },
      "outputs": [],
      "source": [
        "img_height,img_width=(224,224)\n",
        "batch_size=32\n",
        "train     = \"/content/drive/MyDrive/UTEC/9_IA/2_Parcial_2/archive/data/nueva/train\"\n",
        "validatio = \"/content/drive/MyDrive/UTEC/9_IA/2_Parcial_2/archive/data/nueva/test\"\n",
        "test      = \"/content/drive/MyDrive/UTEC/9_IA/2_Parcial_2/archive/data/nueva/val\""
      ]
    },
    {
      "cell_type": "code",
      "execution_count": null,
      "metadata": {
        "id": "-Yux0lsr5EzG",
        "colab": {
          "base_uri": "https://localhost:8080/"
        },
        "outputId": "ec5e2818-6c1c-45e3-9166-a650526bf6b7"
      },
      "outputs": [
        {
          "output_type": "stream",
          "name": "stdout",
          "text": [
            "Found 2027 images belonging to 5 classes.\n",
            "Found 450 images belonging to 5 classes.\n",
            "Found 676 images belonging to 5 classes.\n"
          ]
        }
      ],
      "source": [
        "train_datagen=ImageDataGenerator(preprocessing_function=preprocess_input,\n",
        "                                 shear_range=0.2,\n",
        "                                 zoom_range=0.2,\n",
        "                                 horizontal_flip=True,\n",
        "                                 validation_split=0.4)\n",
        "train_generator=train_datagen.flow_from_directory(\n",
        "    train,\n",
        "    target_size=(img_height,img_width),\n",
        "    batch_size=batch_size,\n",
        "    class_mode=\"categorical\",\n",
        "    subset=\"training\")\n",
        "\n",
        "valid_generator=train_datagen.flow_from_directory(\n",
        "    validatio,\n",
        "    target_size=(img_height,img_width),\n",
        "    batch_size=batch_size,\n",
        "    class_mode=\"categorical\",\n",
        "    subset=\"validation\")\n",
        "\n",
        "test_generator=train_datagen.flow_from_directory(\n",
        "    test,\n",
        "    target_size=(img_height,img_width),\n",
        "    batch_size=1,\n",
        "    class_mode=\"categorical\",\n",
        "    subset=\"training\")"
      ]
    },
    {
      "cell_type": "code",
      "execution_count": null,
      "metadata": {
        "id": "nuksv6Gm6AdP",
        "colab": {
          "base_uri": "https://localhost:8080/"
        },
        "outputId": "6751b206-3d52-4166-b730-9cf5d4704276"
      },
      "outputs": [
        {
          "output_type": "stream",
          "name": "stdout",
          "text": [
            "Downloading data from https://storage.googleapis.com/tensorflow/keras-applications/resnet/resnet152v2_weights_tf_dim_ordering_tf_kernels_notop.h5\n",
            "234545216/234545216 [==============================] - 2s 0us/step\n",
            "Epoch 1/30\n",
            "64/64 [==============================] - 50s 573ms/step - loss: 1.2308 - accuracy: 0.9329\n",
            "Epoch 2/30\n",
            "64/64 [==============================] - 37s 576ms/step - loss: 0.3018 - accuracy: 0.9808\n",
            "Epoch 3/30\n",
            "64/64 [==============================] - 36s 560ms/step - loss: 0.3150 - accuracy: 0.9813\n",
            "Epoch 4/30\n",
            "64/64 [==============================] - 38s 591ms/step - loss: 0.3289 - accuracy: 0.9827\n",
            "Epoch 5/30\n",
            "64/64 [==============================] - 36s 563ms/step - loss: 0.0958 - accuracy: 0.9936\n",
            "Epoch 6/30\n",
            "64/64 [==============================] - 37s 582ms/step - loss: 0.0892 - accuracy: 0.9956\n",
            "Epoch 7/30\n",
            "64/64 [==============================] - 36s 554ms/step - loss: 0.0698 - accuracy: 0.9941\n",
            "Epoch 8/30\n",
            "64/64 [==============================] - 37s 573ms/step - loss: 0.0102 - accuracy: 0.9965\n",
            "Epoch 9/30\n",
            "64/64 [==============================] - 35s 549ms/step - loss: 0.1091 - accuracy: 0.9891\n",
            "Epoch 10/30\n",
            "64/64 [==============================] - 37s 568ms/step - loss: 0.1644 - accuracy: 0.9911\n",
            "Epoch 11/30\n",
            "64/64 [==============================] - 36s 553ms/step - loss: 0.1877 - accuracy: 0.9931\n",
            "Epoch 12/30\n",
            "64/64 [==============================] - 40s 618ms/step - loss: 0.0436 - accuracy: 0.9941\n",
            "Epoch 13/30\n",
            "64/64 [==============================] - 37s 573ms/step - loss: 0.0598 - accuracy: 0.9946\n",
            "Epoch 14/30\n",
            "64/64 [==============================] - 36s 561ms/step - loss: 0.1107 - accuracy: 0.9926\n",
            "Epoch 15/30\n",
            "64/64 [==============================] - 35s 546ms/step - loss: 0.1588 - accuracy: 0.9906\n",
            "Epoch 16/30\n",
            "64/64 [==============================] - 37s 573ms/step - loss: 0.1453 - accuracy: 0.9951\n",
            "Epoch 17/30\n",
            "64/64 [==============================] - 37s 570ms/step - loss: 0.0516 - accuracy: 0.9961\n",
            "Epoch 18/30\n",
            "64/64 [==============================] - 36s 556ms/step - loss: 0.0442 - accuracy: 0.9921\n",
            "Epoch 19/30\n",
            "64/64 [==============================] - 37s 580ms/step - loss: 0.0855 - accuracy: 0.9956\n",
            "Epoch 20/30\n",
            "64/64 [==============================] - 36s 565ms/step - loss: 0.0180 - accuracy: 0.9975\n",
            "Epoch 21/30\n",
            "64/64 [==============================] - 38s 587ms/step - loss: 0.1053 - accuracy: 0.9951\n",
            "Epoch 22/30\n",
            "64/64 [==============================] - 37s 568ms/step - loss: 0.1207 - accuracy: 0.9961\n",
            "Epoch 23/30\n",
            "64/64 [==============================] - 36s 557ms/step - loss: 0.1001 - accuracy: 0.9951\n",
            "Epoch 24/30\n",
            "64/64 [==============================] - 37s 574ms/step - loss: 0.0328 - accuracy: 0.9965\n",
            "Epoch 25/30\n",
            "64/64 [==============================] - 35s 548ms/step - loss: 0.0259 - accuracy: 0.9985\n",
            "Epoch 26/30\n",
            "64/64 [==============================] - 36s 562ms/step - loss: 0.0343 - accuracy: 0.9980\n",
            "Epoch 27/30\n",
            "64/64 [==============================] - 35s 541ms/step - loss: 7.4357e-04 - accuracy: 0.9995\n",
            "Epoch 28/30\n",
            "64/64 [==============================] - 35s 544ms/step - loss: 0.0846 - accuracy: 0.9970\n",
            "Epoch 29/30\n",
            "64/64 [==============================] - 36s 565ms/step - loss: 0.0506 - accuracy: 0.9961\n",
            "Epoch 30/30\n",
            "64/64 [==============================] - 35s 545ms/step - loss: 0.1235 - accuracy: 0.9975\n"
          ]
        },
        {
          "output_type": "execute_result",
          "data": {
            "text/plain": [
              "<keras.callbacks.History at 0x7fbf9a161750>"
            ]
          },
          "metadata": {},
          "execution_count": 7
        }
      ],
      "source": [
        "base_model = ResNet152V2(weights='imagenet', include_top = False)\n",
        "base_model.trainable = False\n",
        "model = Sequential()\n",
        "model.add(Resizing(224,224))\n",
        "model.add(base_model)\n",
        "model.add(Flatten())\n",
        "model.add(Dense(1024, activation ='relu'))\n",
        "model.add(Dense(5, activation = 'softmax'))\n",
        "model.compile(optimizer = 'adam', loss = 'categorical_crossentropy',\n",
        "              metrics = ['accuracy'])\n",
        "model.fit(train_generator,epochs=30)"
      ]
    },
    {
      "cell_type": "code",
      "execution_count": null,
      "metadata": {
        "id": "Oe0yW2mz7NXW",
        "colab": {
          "base_uri": "https://localhost:8080/"
        },
        "outputId": "27846b38-dcd7-45ed-d84d-1fc1f8022cfe"
      },
      "outputs": [
        {
          "output_type": "stream",
          "name": "stdout",
          "text": [
            "Model: \"sequential\"\n",
            "_________________________________________________________________\n",
            " Layer (type)                Output Shape              Param #   \n",
            "=================================================================\n",
            " resizing (Resizing)         (None, 224, 224, None)    0         \n",
            "                                                                 \n",
            " resnet152v2 (Functional)    (None, None, None, 2048)  58331648  \n",
            "                                                                 \n",
            " flatten (Flatten)           (None, 100352)            0         \n",
            "                                                                 \n",
            " dense (Dense)               (None, 1024)              102761472 \n",
            "                                                                 \n",
            " dense_1 (Dense)             (None, 5)                 5125      \n",
            "                                                                 \n",
            "=================================================================\n",
            "Total params: 161,098,245\n",
            "Trainable params: 102,766,597\n",
            "Non-trainable params: 58,331,648\n",
            "_________________________________________________________________\n"
          ]
        }
      ],
      "source": [
        "model.summary()"
      ]
    },
    {
      "cell_type": "code",
      "execution_count": null,
      "metadata": {
        "id": "KTC5d6yr7TsH"
      },
      "outputs": [],
      "source": [
        "model.save(\"/content/drive/MyDrive/UTEC/9_IA/2_Parcial_2/archive/data/nueva/Modelo_ResNet152V2\")"
      ]
    },
    {
      "cell_type": "code",
      "execution_count": null,
      "metadata": {
        "id": "6bV3kJMZ_YDJ",
        "colab": {
          "base_uri": "https://localhost:8080/"
        },
        "outputId": "6887b24b-b48d-4380-9aae-7d5538b67726"
      },
      "outputs": [
        {
          "output_type": "stream",
          "name": "stdout",
          "text": [
            "Downloading data from https://storage.googleapis.com/tensorflow/keras-applications/densenet/densenet201_weights_tf_dim_ordering_tf_kernels_notop.h5\n",
            "74836368/74836368 [==============================] - 0s 0us/step\n",
            "Epoch 1/30\n",
            "64/64 [==============================] - 72s 717ms/step - loss: 1.8113 - accuracy: 0.9132\n",
            "Epoch 2/30\n",
            "64/64 [==============================] - 36s 557ms/step - loss: 0.5354 - accuracy: 0.9665\n",
            "Epoch 3/30\n",
            "64/64 [==============================] - 34s 528ms/step - loss: 0.3090 - accuracy: 0.9817\n",
            "Epoch 4/30\n",
            "64/64 [==============================] - 34s 525ms/step - loss: 0.1657 - accuracy: 0.9901\n",
            "Epoch 5/30\n",
            "64/64 [==============================] - 35s 552ms/step - loss: 0.2411 - accuracy: 0.9837\n",
            "Epoch 6/30\n",
            "64/64 [==============================] - 34s 528ms/step - loss: 0.1750 - accuracy: 0.9842\n",
            "Epoch 7/30\n",
            "64/64 [==============================] - 34s 523ms/step - loss: 0.1425 - accuracy: 0.9887\n",
            "Epoch 8/30\n",
            "64/64 [==============================] - 33s 522ms/step - loss: 0.2500 - accuracy: 0.9808\n",
            "Epoch 9/30\n",
            "64/64 [==============================] - 36s 554ms/step - loss: 0.1910 - accuracy: 0.9877\n",
            "Epoch 10/30\n",
            "64/64 [==============================] - 34s 535ms/step - loss: 0.0235 - accuracy: 0.9965\n",
            "Epoch 11/30\n",
            "64/64 [==============================] - 35s 538ms/step - loss: 0.0921 - accuracy: 0.9946\n",
            "Epoch 12/30\n",
            "64/64 [==============================] - 33s 519ms/step - loss: 0.0094 - accuracy: 0.9990\n",
            "Epoch 13/30\n",
            "64/64 [==============================] - 33s 520ms/step - loss: 0.0357 - accuracy: 0.9975\n",
            "Epoch 14/30\n",
            "64/64 [==============================] - 35s 543ms/step - loss: 0.0470 - accuracy: 0.9956\n",
            "Epoch 15/30\n",
            "64/64 [==============================] - 34s 537ms/step - loss: 0.0552 - accuracy: 0.9951\n",
            "Epoch 16/30\n",
            "64/64 [==============================] - 35s 541ms/step - loss: 0.0230 - accuracy: 0.9970\n",
            "Epoch 17/30\n",
            "64/64 [==============================] - 34s 531ms/step - loss: 0.0331 - accuracy: 0.9946\n",
            "Epoch 18/30\n",
            "64/64 [==============================] - 35s 551ms/step - loss: 2.4924e-04 - accuracy: 1.0000\n",
            "Epoch 19/30\n",
            "64/64 [==============================] - 34s 537ms/step - loss: 3.2032e-04 - accuracy: 1.0000\n",
            "Epoch 20/30\n",
            "64/64 [==============================] - 35s 553ms/step - loss: 0.0184 - accuracy: 0.9980\n",
            "Epoch 21/30\n",
            "64/64 [==============================] - 34s 540ms/step - loss: 0.0074 - accuracy: 0.9975\n",
            "Epoch 22/30\n",
            "64/64 [==============================] - 35s 545ms/step - loss: 0.0047 - accuracy: 0.9985\n",
            "Epoch 23/30\n",
            "64/64 [==============================] - 34s 526ms/step - loss: 0.0348 - accuracy: 0.9956\n",
            "Epoch 24/30\n",
            "64/64 [==============================] - 34s 525ms/step - loss: 0.1547 - accuracy: 0.9901\n",
            "Epoch 25/30\n",
            "64/64 [==============================] - 35s 551ms/step - loss: 0.0990 - accuracy: 0.9931\n",
            "Epoch 26/30\n",
            "64/64 [==============================] - 34s 537ms/step - loss: 0.1020 - accuracy: 0.9936\n",
            "Epoch 27/30\n",
            "64/64 [==============================] - 34s 532ms/step - loss: 0.1922 - accuracy: 0.9867\n",
            "Epoch 28/30\n",
            "64/64 [==============================] - 33s 518ms/step - loss: 0.3490 - accuracy: 0.9877\n",
            "Epoch 29/30\n",
            "64/64 [==============================] - 35s 551ms/step - loss: 0.1405 - accuracy: 0.9951\n",
            "Epoch 30/30\n",
            "64/64 [==============================] - 35s 543ms/step - loss: 0.0854 - accuracy: 0.9931\n"
          ]
        },
        {
          "output_type": "execute_result",
          "data": {
            "text/plain": [
              "<keras.callbacks.History at 0x7fbc38f89960>"
            ]
          },
          "metadata": {},
          "execution_count": 10
        }
      ],
      "source": [
        "base_model2 = DenseNet201(weights='imagenet', include_top = False)\n",
        "base_model2.trainable = False\n",
        "model2 = Sequential()\n",
        "model2.add(Resizing(224,224))\n",
        "model2.add(base_model2)\n",
        "model2.add(Flatten())\n",
        "model2.add(Dense(1024, activation ='relu'))\n",
        "model2.add(Dense(5, activation = 'softmax'))\n",
        "model2.compile(optimizer = 'adam', loss = 'categorical_crossentropy',\n",
        "               metrics = ['accuracy'])\n",
        "model2.fit(train_generator,epochs=30)"
      ]
    },
    {
      "cell_type": "code",
      "source": [
        "model.summary()"
      ],
      "metadata": {
        "colab": {
          "base_uri": "https://localhost:8080/"
        },
        "id": "xf0YTznMaGJW",
        "outputId": "7b649fae-13c1-4e32-fb3a-5b3fc6171914"
      },
      "execution_count": null,
      "outputs": [
        {
          "output_type": "stream",
          "name": "stdout",
          "text": [
            "Model: \"sequential\"\n",
            "_________________________________________________________________\n",
            " Layer (type)                Output Shape              Param #   \n",
            "=================================================================\n",
            " resizing (Resizing)         (None, 224, 224, None)    0         \n",
            "                                                                 \n",
            " resnet152v2 (Functional)    (None, None, None, 2048)  58331648  \n",
            "                                                                 \n",
            " flatten (Flatten)           (None, 100352)            0         \n",
            "                                                                 \n",
            " dense (Dense)               (None, 1024)              102761472 \n",
            "                                                                 \n",
            " dense_1 (Dense)             (None, 5)                 5125      \n",
            "                                                                 \n",
            "=================================================================\n",
            "Total params: 161,098,245\n",
            "Trainable params: 102,766,597\n",
            "Non-trainable params: 58,331,648\n",
            "_________________________________________________________________\n"
          ]
        }
      ]
    },
    {
      "cell_type": "code",
      "source": [
        "model.save(\"/content/drive/MyDrive/UTEC/9_IA/2_Parcial_2/archive/data/nueva/Modelo_DenseNet201\")"
      ],
      "metadata": {
        "id": "nAwyfjSVaJ-X"
      },
      "execution_count": null,
      "outputs": []
    }
  ],
  "metadata": {
    "accelerator": "GPU",
    "colab": {
      "gpuType": "T4",
      "provenance": []
    },
    "kernelspec": {
      "display_name": "Python 3",
      "name": "python3"
    },
    "language_info": {
      "name": "python"
    }
  },
  "nbformat": 4,
  "nbformat_minor": 0
}